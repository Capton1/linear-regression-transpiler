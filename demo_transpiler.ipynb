{
 "cells": [
  {
   "cell_type": "code",
   "execution_count": 1,
   "metadata": {},
   "outputs": [
    {
     "name": "stdout",
     "output_type": "stream",
     "text": [
      "Defaulting to user installation because normal site-packages is not writeable\n",
      "Requirement already satisfied: pandas in /home/capton/.local/lib/python3.8/site-packages (from -r requirements.txt (line 1)) (1.2.3)\n",
      "Requirement already satisfied: numpy in /home/capton/.local/lib/python3.8/site-packages (from -r requirements.txt (line 2)) (1.20.2)\n",
      "Requirement already satisfied: scikit-learn in /home/capton/.local/lib/python3.8/site-packages (from -r requirements.txt (line 3)) (1.0.1)\n",
      "Requirement already satisfied: joblib in /home/capton/.local/lib/python3.8/site-packages (from -r requirements.txt (line 4)) (1.1.0)\n",
      "Requirement already satisfied: pytz>=2017.3 in /home/capton/.local/lib/python3.8/site-packages (from pandas->-r requirements.txt (line 1)) (2021.1)\n",
      "Requirement already satisfied: python-dateutil>=2.7.3 in /home/capton/.local/lib/python3.8/site-packages (from pandas->-r requirements.txt (line 1)) (2.8.1)\n",
      "Requirement already satisfied: scipy>=1.1.0 in /home/capton/.local/lib/python3.8/site-packages (from scikit-learn->-r requirements.txt (line 3)) (1.7.1)\n",
      "Requirement already satisfied: threadpoolctl>=2.0.0 in /home/capton/.local/lib/python3.8/site-packages (from scikit-learn->-r requirements.txt (line 3)) (3.0.0)\n",
      "Requirement already satisfied: six>=1.5 in /usr/lib/python3/dist-packages (from python-dateutil>=2.7.3->pandas->-r requirements.txt (line 1)) (1.14.0)\n"
     ]
    }
   ],
   "source": [
    "!pip install -r requirements.txt"
   ]
  },
  {
   "cell_type": "code",
   "execution_count": 2,
   "metadata": {},
   "outputs": [],
   "source": [
    "from model_linear import train_example_model"
   ]
  },
  {
   "cell_type": "code",
   "execution_count": 4,
   "metadata": {},
   "outputs": [],
   "source": [
    "train_example_model()"
   ]
  },
  {
   "cell_type": "code",
   "execution_count": 6,
   "metadata": {},
   "outputs": [],
   "source": [
    "from transpile_simple_model import transpile_model\n",
    "\n",
    "features = [1.6812,  25.0]\n",
    "transpile_model(features)"
   ]
  },
  {
   "cell_type": "code",
   "execution_count": 9,
   "metadata": {},
   "outputs": [
    {
     "name": "stdout",
     "output_type": "stream",
     "text": [
      "Linear regression: 1.055516\r\n"
     ]
    }
   ],
   "source": [
    "!gcc transpiler.c && ./a.out"
   ]
  },
  {
   "cell_type": "code",
   "execution_count": null,
   "metadata": {},
   "outputs": [],
   "source": []
  }
 ],
 "metadata": {
  "interpreter": {
   "hash": "36a5292538ec61e24d141790b00a6e91b1d7d24951a0a5a04a18864ee2534f6e"
  },
  "kernelspec": {
   "display_name": "Python 3 (ipykernel)",
   "language": "python",
   "name": "python3"
  },
  "language_info": {
   "codemirror_mode": {
    "name": "ipython",
    "version": 3
   },
   "file_extension": ".py",
   "mimetype": "text/x-python",
   "name": "python",
   "nbconvert_exporter": "python",
   "pygments_lexer": "ipython3",
   "version": "3.9.7"
  }
 },
 "nbformat": 4,
 "nbformat_minor": 2
}
